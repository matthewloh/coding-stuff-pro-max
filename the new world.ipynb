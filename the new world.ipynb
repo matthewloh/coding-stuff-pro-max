{
 "cells": [
  {
   "cell_type": "code",
   "execution_count": 1,
   "metadata": {},
   "outputs": [
    {
     "name": "stdout",
     "output_type": "stream",
     "text": [
      "Hey John, your password **** is 4 characters long\n",
      "Your password is less than 10 characters long\n"
     ]
    }
   ],
   "source": [
    "username = input(\"Please insert your username\\n\") #username\n",
    "\n",
    "pw = input(\"Please insert your password\\n\") #password\n",
    "\n",
    "pwl = len((pw.strip())) #password length\n",
    "\n",
    "asterisks = ('*' * int(pwl)) # \"*\" number of elements in pwl\n",
    "print(f\"Hey {username}, your password {asterisks} is {pwl} characters long\") #(\"Hey {username},  password {pw} is {pwl} long)\n",
    "\n",
    "if pwl > 10:\n",
    "    print(\"Wtf are you doing that's a long ass password\")\n",
    "else:\n",
    "    print (\"Your password is less than 10 characters long\")"
   ]
  },
  {
   "cell_type": "code",
   "execution_count": 4,
   "metadata": {},
   "outputs": [
    {
     "name": "stdout",
     "output_type": "stream",
     "text": [
      "<__main__.Greeter object at 0x00000147192B6110>\n",
      "<class '__main__.Greeter'>\n"
     ]
    }
   ],
   "source": [
    "class Greeter(object):\n",
    "    \"\"\"Object-oriented greetings\"\"\"\n",
    "\n",
    "    def __init__(self, name):\n",
    "        self.name = name\n",
    "\n",
    "    def greet(self, salutation=\"Hello\"):\n",
    "        print(\"{}, {}\".format(salutation, self.name))\n"
   ]
  },
  {
   "cell_type": "code",
   "execution_count": null,
   "metadata": {},
   "outputs": [],
   "source": []
  }
 ],
 "metadata": {
  "kernelspec": {
   "display_name": "Python 3.10.6 64-bit",
   "language": "python",
   "name": "python3"
  },
  "language_info": {
   "codemirror_mode": {
    "name": "ipython",
    "version": 3
   },
   "file_extension": ".py",
   "mimetype": "text/x-python",
   "name": "python",
   "nbconvert_exporter": "python",
   "pygments_lexer": "ipython3",
   "version": "3.10.6"
  },
  "orig_nbformat": 4,
  "vscode": {
   "interpreter": {
    "hash": "369f2c481f4da34e4445cda3fffd2e751bd1c4d706f27375911949ba6bb62e1c"
   }
  }
 },
 "nbformat": 4,
 "nbformat_minor": 2
}
